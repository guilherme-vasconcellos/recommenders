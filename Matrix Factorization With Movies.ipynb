{
 "cells": [
  {
   "cell_type": "markdown",
   "metadata": {},
   "source": [
    "# Because You Watched\n",
    "\n",
    "Using surprise SVD++ with matrix factorization to recommend movies"
   ]
  },
  {
   "cell_type": "markdown",
   "metadata": {},
   "source": [
    "## Setup And Exploration"
   ]
  },
  {
   "cell_type": "code",
   "execution_count": 1,
   "metadata": {},
   "outputs": [],
   "source": [
    "import pandas as pd\n",
    "import numpy as np\n",
    "\n",
    "import matplotlib.pyplot as plt\n",
    "import seaborn as sns\n",
    "\n",
    "from surprise import Dataset\n",
    "\n",
    "# Set default seed\n",
    "np.random.seed(2802)"
   ]
  },
  {
   "cell_type": "code",
   "execution_count": 2,
   "metadata": {},
   "outputs": [
    {
     "data": {
      "text/html": [
       "<div>\n",
       "<style scoped>\n",
       "    .dataframe tbody tr th:only-of-type {\n",
       "        vertical-align: middle;\n",
       "    }\n",
       "\n",
       "    .dataframe tbody tr th {\n",
       "        vertical-align: top;\n",
       "    }\n",
       "\n",
       "    .dataframe thead th {\n",
       "        text-align: right;\n",
       "    }\n",
       "</style>\n",
       "<table border=\"1\" class=\"dataframe\">\n",
       "  <thead>\n",
       "    <tr style=\"text-align: right;\">\n",
       "      <th></th>\n",
       "      <th>user_id</th>\n",
       "      <th>movie_id</th>\n",
       "      <th>rating</th>\n",
       "    </tr>\n",
       "  </thead>\n",
       "  <tbody>\n",
       "    <tr>\n",
       "      <th>0</th>\n",
       "      <td>1</td>\n",
       "      <td>1</td>\n",
       "      <td>4.0</td>\n",
       "    </tr>\n",
       "    <tr>\n",
       "      <th>1</th>\n",
       "      <td>1</td>\n",
       "      <td>3</td>\n",
       "      <td>4.0</td>\n",
       "    </tr>\n",
       "    <tr>\n",
       "      <th>2</th>\n",
       "      <td>1</td>\n",
       "      <td>6</td>\n",
       "      <td>4.0</td>\n",
       "    </tr>\n",
       "    <tr>\n",
       "      <th>3</th>\n",
       "      <td>1</td>\n",
       "      <td>47</td>\n",
       "      <td>5.0</td>\n",
       "    </tr>\n",
       "    <tr>\n",
       "      <th>4</th>\n",
       "      <td>1</td>\n",
       "      <td>50</td>\n",
       "      <td>5.0</td>\n",
       "    </tr>\n",
       "  </tbody>\n",
       "</table>\n",
       "</div>"
      ],
      "text/plain": [
       "   user_id  movie_id  rating\n",
       "0        1         1     4.0\n",
       "1        1         3     4.0\n",
       "2        1         6     4.0\n",
       "3        1        47     5.0\n",
       "4        1        50     5.0"
      ]
     },
     "execution_count": 2,
     "metadata": {},
     "output_type": "execute_result"
    }
   ],
   "source": [
    "ratings_df = pd.read_csv('datasets/movielens_100k/ratings.csv', usecols=['userId', 'movieId', 'rating'])\n",
    "\n",
    "# Surprise dataset must have the columns in this order\n",
    "ratings_df.columns = ['user_id', 'movie_id', 'rating']\n",
    "\n",
    "ratings_df.head()"
   ]
  },
  {
   "cell_type": "code",
   "execution_count": 3,
   "metadata": {},
   "outputs": [
    {
     "data": {
      "text/html": [
       "<div>\n",
       "<style scoped>\n",
       "    .dataframe tbody tr th:only-of-type {\n",
       "        vertical-align: middle;\n",
       "    }\n",
       "\n",
       "    .dataframe tbody tr th {\n",
       "        vertical-align: top;\n",
       "    }\n",
       "\n",
       "    .dataframe thead th {\n",
       "        text-align: right;\n",
       "    }\n",
       "</style>\n",
       "<table border=\"1\" class=\"dataframe\">\n",
       "  <thead>\n",
       "    <tr style=\"text-align: right;\">\n",
       "      <th></th>\n",
       "      <th>title</th>\n",
       "      <th>genres</th>\n",
       "    </tr>\n",
       "    <tr>\n",
       "      <th>movie_id</th>\n",
       "      <th></th>\n",
       "      <th></th>\n",
       "    </tr>\n",
       "  </thead>\n",
       "  <tbody>\n",
       "    <tr>\n",
       "      <th>1</th>\n",
       "      <td>Toy Story (1995)</td>\n",
       "      <td>Adventure|Animation|Children|Comedy|Fantasy</td>\n",
       "    </tr>\n",
       "    <tr>\n",
       "      <th>2</th>\n",
       "      <td>Jumanji (1995)</td>\n",
       "      <td>Adventure|Children|Fantasy</td>\n",
       "    </tr>\n",
       "    <tr>\n",
       "      <th>3</th>\n",
       "      <td>Grumpier Old Men (1995)</td>\n",
       "      <td>Comedy|Romance</td>\n",
       "    </tr>\n",
       "    <tr>\n",
       "      <th>4</th>\n",
       "      <td>Waiting to Exhale (1995)</td>\n",
       "      <td>Comedy|Drama|Romance</td>\n",
       "    </tr>\n",
       "    <tr>\n",
       "      <th>5</th>\n",
       "      <td>Father of the Bride Part II (1995)</td>\n",
       "      <td>Comedy</td>\n",
       "    </tr>\n",
       "  </tbody>\n",
       "</table>\n",
       "</div>"
      ],
      "text/plain": [
       "                                       title  \\\n",
       "movie_id                                       \n",
       "1                           Toy Story (1995)   \n",
       "2                             Jumanji (1995)   \n",
       "3                    Grumpier Old Men (1995)   \n",
       "4                   Waiting to Exhale (1995)   \n",
       "5         Father of the Bride Part II (1995)   \n",
       "\n",
       "                                               genres  \n",
       "movie_id                                               \n",
       "1         Adventure|Animation|Children|Comedy|Fantasy  \n",
       "2                          Adventure|Children|Fantasy  \n",
       "3                                      Comedy|Romance  \n",
       "4                                Comedy|Drama|Romance  \n",
       "5                                              Comedy  "
      ]
     },
     "execution_count": 3,
     "metadata": {},
     "output_type": "execute_result"
    }
   ],
   "source": [
    "movies = pd.read_csv('datasets/movielens_100k/movies.csv')\n",
    "\n",
    "movies.columns = ['movie_id', 'title', 'genres']\n",
    "movies = movies.set_index('movie_id')\n",
    "\n",
    "movies.head()"
   ]
  },
  {
   "cell_type": "code",
   "execution_count": 4,
   "metadata": {},
   "outputs": [],
   "source": [
    "ratings = Dataset.load_from_df(ratings_df, rating_scale=(0.5, 5.0))"
   ]
  },
  {
   "cell_type": "markdown",
   "metadata": {},
   "source": [
    "## Model Selection"
   ]
  },
  {
   "cell_type": "code",
   "execution_count": null,
   "metadata": {},
   "outputs": [],
   "source": [
    "from surprise import SVDpp\n",
    "\n",
    "from surprise.model_selection import RandomizedSearchCV\n",
    "\n",
    "param_distributions = {'n_factors': [150, 200],\n",
    "                       'n_epochs': [150, 200],\n",
    "                       'lr_all': [0.005, 0.008],\n",
    "                       'reg_all': [0.1, 0.08]}\n",
    "\n",
    "search = RandomizedSearchCV(SVDpp, param_distributions, measures=['rmse', 'mae'], cv=10, n_iter=5, n_jobs=-1)\n",
    "search.fit(ratings)\n",
    "\n",
    "print('RMSE Best Score', round(search.best_score['rmse'], 4))\n",
    "print('RMSE Best Params', search.best_params['rmse'])\n",
    "\n",
    "print('\\nMAE Best Score', round(search.best_score['mae'], 4))\n",
    "print('MAE Best Params', search.best_params['mae'])"
   ]
  },
  {
   "cell_type": "code",
   "execution_count": 7,
   "metadata": {},
   "outputs": [],
   "source": [
    "from surprise.model_selection import cross_validate\n",
    "\n",
    "model = search.best_estimator['rmse']\n",
    "\n",
    "cv_results = cross_validate(model, ratings, measures=['rmse', 'mae'], cv=2, verbose=True)\n",
    "cv_results"
   ]
  },
  {
   "cell_type": "markdown",
   "metadata": {},
   "source": [
    "# Recommending Movies"
   ]
  },
  {
   "cell_type": "markdown",
   "metadata": {},
   "source": [
    "## Predict Movie Ratings According a User"
   ]
  },
  {
   "cell_type": "code",
   "execution_count": 8,
   "metadata": {},
   "outputs": [],
   "source": [
    "def to_prediction_info(prediction):\n",
    "    movie_id, rating = prediction\n",
    "    try:\n",
    "        title = movies.loc[movie_id]['title']\n",
    "        return (title, round(float(rating), 4))\n",
    "    except:\n",
    "        return None\n",
    "        \n",
    "def recommend_by_similar_users(user_id, n_recomendations=10):\n",
    "    movie_ids = ratings.df['movie_id'].unique()\n",
    "    user_movies_ids = ratings.df[ratings.df['user_id'] == user_id]['movie_id']   \n",
    "    \n",
    "    user_unwatched_movies_ids = np.setdiff1d(movie_ids, user_movies_ids)\n",
    "    \n",
    "    testset = [[user_id, movie_id, 0.0] # Parameter r_ui is unused in this context\n",
    "               for movie_id in user_unwatched_movies_ids]\n",
    "    \n",
    "    predictions = model.test(testset)\n",
    "    \n",
    "    found_movies = [(pred.iid, pred.est) for pred in predictions]\n",
    "    \n",
    "    found_movies = map(to_prediction_info, found_movies)\n",
    "    found_movies = filter(lambda prediction: prediction is not None, found_movies)\n",
    "    found_movies = sorted(found_movies, key=lambda prediction: prediction[1], reverse=True)\n",
    "    found_movies = list(found_movies[:n_recomendations])\n",
    "    \n",
    "    return found_movies"
   ]
  },
  {
   "cell_type": "code",
   "execution_count": 9,
   "metadata": {},
   "outputs": [
    {
     "data": {
      "text/plain": [
       "[('Shawshank Redemption, The (1994)', 3.7052),\n",
       " ('Forrest Gump (1994)', 3.6853),\n",
       " ('To Kill a Mockingbird (1962)', 3.6802),\n",
       " (\"One Flew Over the Cuckoo's Nest (1975)\", 3.6518),\n",
       " ('Terminator 2: Judgment Day (1991)', 3.645),\n",
       " ('Apollo 13 (1995)', 3.6443),\n",
       " ('Odessa File, The (1974)', 3.644),\n",
       " ('Rocketeer, The (1991)', 3.6428),\n",
       " ('Fight Club (1999)', 3.6427),\n",
       " ('Groundhog Day (1993)', 3.638)]"
      ]
     },
     "execution_count": 9,
     "metadata": {},
     "output_type": "execute_result"
    }
   ],
   "source": [
    "user_id = 10\n",
    "\n",
    "recommendations = recommend_by_similar_users(user_id)\n",
    "recommendations"
   ]
  },
  {
   "cell_type": "markdown",
   "metadata": {},
   "source": [
    "## Checking Recommendations"
   ]
  },
  {
   "cell_type": "code",
   "execution_count": 10,
   "metadata": {},
   "outputs": [
    {
     "data": {
      "text/html": [
       "<div>\n",
       "<style scoped>\n",
       "    .dataframe tbody tr th:only-of-type {\n",
       "        vertical-align: middle;\n",
       "    }\n",
       "\n",
       "    .dataframe tbody tr th {\n",
       "        vertical-align: top;\n",
       "    }\n",
       "\n",
       "    .dataframe thead th {\n",
       "        text-align: right;\n",
       "    }\n",
       "</style>\n",
       "<table border=\"1\" class=\"dataframe\">\n",
       "  <thead>\n",
       "    <tr style=\"text-align: right;\">\n",
       "      <th></th>\n",
       "      <th>user_id</th>\n",
       "      <th>title</th>\n",
       "      <th>rating</th>\n",
       "    </tr>\n",
       "    <tr>\n",
       "      <th>movie_id</th>\n",
       "      <th></th>\n",
       "      <th></th>\n",
       "      <th></th>\n",
       "    </tr>\n",
       "  </thead>\n",
       "  <tbody>\n",
       "    <tr>\n",
       "      <th>86548</th>\n",
       "      <td>10</td>\n",
       "      <td>Water for Elephants (2011)</td>\n",
       "      <td>3.0</td>\n",
       "    </tr>\n",
       "  </tbody>\n",
       "</table>\n",
       "</div>"
      ],
      "text/plain": [
       "          user_id                       title  rating\n",
       "movie_id                                             \n",
       "86548          10  Water for Elephants (2011)     3.0"
      ]
     },
     "execution_count": 10,
     "metadata": {},
     "output_type": "execute_result"
    }
   ],
   "source": [
    "user_movie_ratings = ratings.df[ratings.df['user_id'] == user_id].nlargest(10, 'rating')\n",
    "user_movie_ratings = user_movie_ratings.reset_index()\n",
    "user_movie_ratings = user_movie_ratings.set_index('movie_id')\n",
    "\n",
    "user_movie_ratings = user_movie_ratings.join(movies)\n",
    "user_movie_ratings = user_movie_ratings[['user_id', 'title', 'rating']]\n",
    "\n",
    "user_movie_ratings"
   ]
  },
  {
   "cell_type": "markdown",
   "metadata": {},
   "source": [
    "*Notes:*\n",
    "\n",
    "This model fix some limitations of traditional models like:\n",
    "\n",
    "- **Popularity bias:** When only the most popular movies will be considered on the recommendation.\n",
    "- **Could start:** When there aren't many movies watched, the recommendation tends not to be very accurate.\n",
    "    \n",
    "When we factor the matrix, the popularity of the movie has no effect on the recommendations, so the amount of ratings is insignificant, solving both problems at once."
   ]
  },
  {
   "cell_type": "markdown",
   "metadata": {},
   "source": [
    "# Saving Model"
   ]
  },
  {
   "cell_type": "code",
   "execution_count": 11,
   "metadata": {},
   "outputs": [],
   "source": [
    "import pickle\n",
    "\n",
    "def save_model(filepath, fitted_model):\n",
    "    try:\n",
    "        with open(filepath, 'wb') as f:\n",
    "            pickle.dump(fitted_model, f)\n",
    "    except Exception as e:\n",
    "        print(e)\n",
    "\n",
    "        \n",
    "def load_model(filepath):\n",
    "    fitted_model = None\n",
    "    try:\n",
    "        with open(filepath, 'rb') as f:\n",
    "            fitted_model = pickle.load(f)\n",
    "            \n",
    "        return fitted_model\n",
    "    except Exception as e:\n",
    "        print(e)"
   ]
  },
  {
   "cell_type": "code",
   "execution_count": 12,
   "metadata": {},
   "outputs": [
    {
     "name": "stdout",
     "output_type": "stream",
     "text": [
      "[Errno 2] No such file or directory: 'models/svdpp_movies_recommender_matrix_factorization.pkl'\n"
     ]
    }
   ],
   "source": [
    "filename = 'svdpp_movies_recommender_matrix_factorization.pkl'\n",
    "filepath = f'models/{filename}'\n",
    "\n",
    "save_model(filepath, model)"
   ]
  }
 ],
 "metadata": {
  "hide_input": false,
  "kernelspec": {
   "display_name": "Python 3",
   "language": "python",
   "name": "python3"
  },
  "language_info": {
   "codemirror_mode": {
    "name": "ipython",
    "version": 3
   },
   "file_extension": ".py",
   "mimetype": "text/x-python",
   "name": "python",
   "nbconvert_exporter": "python",
   "pygments_lexer": "ipython3",
   "version": "3.7.2"
  },
  "notify_time": "30",
  "toc": {
   "base_numbering": 1,
   "nav_menu": {},
   "number_sections": true,
   "sideBar": true,
   "skip_h1_title": false,
   "title_cell": "Table of Contents",
   "title_sidebar": "Contents",
   "toc_cell": false,
   "toc_position": {},
   "toc_section_display": true,
   "toc_window_display": true
  }
 },
 "nbformat": 4,
 "nbformat_minor": 2
}
