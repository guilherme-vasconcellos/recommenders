{
 "cells": [
  {
   "cell_type": "markdown",
   "metadata": {},
   "source": [
    "# Other Movies Like ... | Maybe You Like ...\n",
    "\n",
    "Using KNN to find similar users and similar movies"
   ]
  },
  {
   "cell_type": "markdown",
   "metadata": {},
   "source": [
    "## Setup And Exploration"
   ]
  },
  {
   "cell_type": "code",
   "execution_count": 1,
   "metadata": {},
   "outputs": [],
   "source": [
    "import pandas as pd\n",
    "import numpy as np\n",
    "\n",
    "import matplotlib.pyplot as plt\n",
    "import seaborn as sns\n",
    "\n",
    "# Set default seed\n",
    "np.random.seed(2802)"
   ]
  },
  {
   "cell_type": "code",
   "execution_count": 2,
   "metadata": {},
   "outputs": [
    {
     "data": {
      "text/html": [
       "<div>\n",
       "<style scoped>\n",
       "    .dataframe tbody tr th:only-of-type {\n",
       "        vertical-align: middle;\n",
       "    }\n",
       "\n",
       "    .dataframe tbody tr th {\n",
       "        vertical-align: top;\n",
       "    }\n",
       "\n",
       "    .dataframe thead th {\n",
       "        text-align: right;\n",
       "    }\n",
       "</style>\n",
       "<table border=\"1\" class=\"dataframe\">\n",
       "  <thead>\n",
       "    <tr style=\"text-align: right;\">\n",
       "      <th></th>\n",
       "      <th>title</th>\n",
       "      <th>genres</th>\n",
       "    </tr>\n",
       "    <tr>\n",
       "      <th>movie_id</th>\n",
       "      <th></th>\n",
       "      <th></th>\n",
       "    </tr>\n",
       "  </thead>\n",
       "  <tbody>\n",
       "    <tr>\n",
       "      <th>1</th>\n",
       "      <td>Toy Story (1995)</td>\n",
       "      <td>Adventure|Animation|Children|Comedy|Fantasy</td>\n",
       "    </tr>\n",
       "    <tr>\n",
       "      <th>2</th>\n",
       "      <td>Jumanji (1995)</td>\n",
       "      <td>Adventure|Children|Fantasy</td>\n",
       "    </tr>\n",
       "    <tr>\n",
       "      <th>3</th>\n",
       "      <td>Grumpier Old Men (1995)</td>\n",
       "      <td>Comedy|Romance</td>\n",
       "    </tr>\n",
       "    <tr>\n",
       "      <th>4</th>\n",
       "      <td>Waiting to Exhale (1995)</td>\n",
       "      <td>Comedy|Drama|Romance</td>\n",
       "    </tr>\n",
       "    <tr>\n",
       "      <th>5</th>\n",
       "      <td>Father of the Bride Part II (1995)</td>\n",
       "      <td>Comedy</td>\n",
       "    </tr>\n",
       "  </tbody>\n",
       "</table>\n",
       "</div>"
      ],
      "text/plain": [
       "                                       title  \\\n",
       "movie_id                                       \n",
       "1                           Toy Story (1995)   \n",
       "2                             Jumanji (1995)   \n",
       "3                    Grumpier Old Men (1995)   \n",
       "4                   Waiting to Exhale (1995)   \n",
       "5         Father of the Bride Part II (1995)   \n",
       "\n",
       "                                               genres  \n",
       "movie_id                                               \n",
       "1         Adventure|Animation|Children|Comedy|Fantasy  \n",
       "2                          Adventure|Children|Fantasy  \n",
       "3                                      Comedy|Romance  \n",
       "4                                Comedy|Drama|Romance  \n",
       "5                                              Comedy  "
      ]
     },
     "execution_count": 2,
     "metadata": {},
     "output_type": "execute_result"
    }
   ],
   "source": [
    "movies = pd.read_csv('../Datasets/movielens_100k/movies.csv')\n",
    "\n",
    "movies.columns = ['movie_id', 'title', 'genres']\n",
    "movies = movies.set_index('movie_id')\n",
    "\n",
    "movies.head()"
   ]
  },
  {
   "cell_type": "code",
   "execution_count": 3,
   "metadata": {},
   "outputs": [
    {
     "data": {
      "text/html": [
       "<div>\n",
       "<style scoped>\n",
       "    .dataframe tbody tr th:only-of-type {\n",
       "        vertical-align: middle;\n",
       "    }\n",
       "\n",
       "    .dataframe tbody tr th {\n",
       "        vertical-align: top;\n",
       "    }\n",
       "\n",
       "    .dataframe thead th {\n",
       "        text-align: right;\n",
       "    }\n",
       "</style>\n",
       "<table border=\"1\" class=\"dataframe\">\n",
       "  <thead>\n",
       "    <tr style=\"text-align: right;\">\n",
       "      <th></th>\n",
       "      <th>movie_id</th>\n",
       "      <th>rating</th>\n",
       "      <th>timestamp</th>\n",
       "    </tr>\n",
       "    <tr>\n",
       "      <th>user_id</th>\n",
       "      <th></th>\n",
       "      <th></th>\n",
       "      <th></th>\n",
       "    </tr>\n",
       "  </thead>\n",
       "  <tbody>\n",
       "    <tr>\n",
       "      <th>1</th>\n",
       "      <td>1</td>\n",
       "      <td>4.0</td>\n",
       "      <td>964982703</td>\n",
       "    </tr>\n",
       "    <tr>\n",
       "      <th>1</th>\n",
       "      <td>3</td>\n",
       "      <td>4.0</td>\n",
       "      <td>964981247</td>\n",
       "    </tr>\n",
       "    <tr>\n",
       "      <th>1</th>\n",
       "      <td>6</td>\n",
       "      <td>4.0</td>\n",
       "      <td>964982224</td>\n",
       "    </tr>\n",
       "    <tr>\n",
       "      <th>1</th>\n",
       "      <td>47</td>\n",
       "      <td>5.0</td>\n",
       "      <td>964983815</td>\n",
       "    </tr>\n",
       "    <tr>\n",
       "      <th>1</th>\n",
       "      <td>50</td>\n",
       "      <td>5.0</td>\n",
       "      <td>964982931</td>\n",
       "    </tr>\n",
       "  </tbody>\n",
       "</table>\n",
       "</div>"
      ],
      "text/plain": [
       "         movie_id  rating  timestamp\n",
       "user_id                             \n",
       "1               1     4.0  964982703\n",
       "1               3     4.0  964981247\n",
       "1               6     4.0  964982224\n",
       "1              47     5.0  964983815\n",
       "1              50     5.0  964982931"
      ]
     },
     "execution_count": 3,
     "metadata": {},
     "output_type": "execute_result"
    }
   ],
   "source": [
    "ratings = pd.read_csv('../datasets/movielens_100k/ratings.csv')\n",
    "\n",
    "ratings.columns = ['user_id', 'movie_id', 'rating', 'timestamp']\n",
    "ratings = ratings.set_index('user_id')\n",
    "\n",
    "ratings.head()"
   ]
  },
  {
   "cell_type": "code",
   "execution_count": 4,
   "metadata": {},
   "outputs": [
    {
     "data": {
      "text/plain": [
       "0"
      ]
     },
     "execution_count": 4,
     "metadata": {},
     "output_type": "execute_result"
    }
   ],
   "source": [
    "ratings['rating'].isna().sum()"
   ]
  },
  {
   "cell_type": "code",
   "execution_count": 5,
   "metadata": {},
   "outputs": [
    {
     "data": {
      "text/html": [
       "<div>\n",
       "<style scoped>\n",
       "    .dataframe tbody tr th:only-of-type {\n",
       "        vertical-align: middle;\n",
       "    }\n",
       "\n",
       "    .dataframe tbody tr th {\n",
       "        vertical-align: top;\n",
       "    }\n",
       "\n",
       "    .dataframe thead th {\n",
       "        text-align: right;\n",
       "    }\n",
       "</style>\n",
       "<table border=\"1\" class=\"dataframe\">\n",
       "  <thead>\n",
       "    <tr style=\"text-align: right;\">\n",
       "      <th></th>\n",
       "      <th>rating</th>\n",
       "    </tr>\n",
       "  </thead>\n",
       "  <tbody>\n",
       "    <tr>\n",
       "      <th>count</th>\n",
       "      <td>100836.000</td>\n",
       "    </tr>\n",
       "    <tr>\n",
       "      <th>mean</th>\n",
       "      <td>3.502</td>\n",
       "    </tr>\n",
       "    <tr>\n",
       "      <th>std</th>\n",
       "      <td>1.043</td>\n",
       "    </tr>\n",
       "    <tr>\n",
       "      <th>min</th>\n",
       "      <td>0.500</td>\n",
       "    </tr>\n",
       "    <tr>\n",
       "      <th>25%</th>\n",
       "      <td>3.000</td>\n",
       "    </tr>\n",
       "    <tr>\n",
       "      <th>50%</th>\n",
       "      <td>3.500</td>\n",
       "    </tr>\n",
       "    <tr>\n",
       "      <th>75%</th>\n",
       "      <td>4.000</td>\n",
       "    </tr>\n",
       "    <tr>\n",
       "      <th>max</th>\n",
       "      <td>5.000</td>\n",
       "    </tr>\n",
       "  </tbody>\n",
       "</table>\n",
       "</div>"
      ],
      "text/plain": [
       "           rating\n",
       "count  100836.000\n",
       "mean        3.502\n",
       "std         1.043\n",
       "min         0.500\n",
       "25%         3.000\n",
       "50%         3.500\n",
       "75%         4.000\n",
       "max         5.000"
      ]
     },
     "execution_count": 5,
     "metadata": {},
     "output_type": "execute_result"
    }
   ],
   "source": [
    "ratings['rating'].to_frame().describe().round(3)"
   ]
  },
  {
   "cell_type": "code",
   "execution_count": 6,
   "metadata": {},
   "outputs": [
    {
     "data": {
      "text/html": [
       "<div>\n",
       "<style scoped>\n",
       "    .dataframe tbody tr th:only-of-type {\n",
       "        vertical-align: middle;\n",
       "    }\n",
       "\n",
       "    .dataframe tbody tr th {\n",
       "        vertical-align: top;\n",
       "    }\n",
       "\n",
       "    .dataframe thead th {\n",
       "        text-align: right;\n",
       "    }\n",
       "</style>\n",
       "<table border=\"1\" class=\"dataframe\">\n",
       "  <thead>\n",
       "    <tr style=\"text-align: right;\">\n",
       "      <th></th>\n",
       "      <th>count</th>\n",
       "    </tr>\n",
       "  </thead>\n",
       "  <tbody>\n",
       "    <tr>\n",
       "      <th>0</th>\n",
       "      <td>329</td>\n",
       "    </tr>\n",
       "    <tr>\n",
       "      <th>1</th>\n",
       "      <td>317</td>\n",
       "    </tr>\n",
       "    <tr>\n",
       "      <th>2</th>\n",
       "      <td>307</td>\n",
       "    </tr>\n",
       "    <tr>\n",
       "      <th>3</th>\n",
       "      <td>279</td>\n",
       "    </tr>\n",
       "    <tr>\n",
       "      <th>4</th>\n",
       "      <td>278</td>\n",
       "    </tr>\n",
       "  </tbody>\n",
       "</table>\n",
       "</div>"
      ],
      "text/plain": [
       "   count\n",
       "0    329\n",
       "1    317\n",
       "2    307\n",
       "3    279\n",
       "4    278"
      ]
     },
     "execution_count": 6,
     "metadata": {},
     "output_type": "execute_result"
    }
   ],
   "source": [
    "movies_count = pd.DataFrame(ratings.groupby('movie_id').size(),\n",
    "                             columns=['count'])\n",
    "\n",
    "movies_count = movies_count.sort_values('count', ascending=False)\n",
    "movies_count = movies_count.reset_index(drop=True)\n",
    "\n",
    "movies_count.head()"
   ]
  },
  {
   "cell_type": "code",
   "execution_count": 7,
   "metadata": {},
   "outputs": [
    {
     "data": {
      "text/plain": [
       "<matplotlib.axes._subplots.AxesSubplot at 0x206a4069208>"
      ]
     },
     "execution_count": 7,
     "metadata": {},
     "output_type": "execute_result"
    },
    {
     "data": {
      "image/png": "[encoded data removed]",
      "text/plain": [
       "<Figure size 1080x720 with 1 Axes>"
      ]
     },
     "metadata": {
      "needs_background": "dark"
     },
     "output_type": "display_data"
    }
   ],
   "source": [
    "plt.figure(figsize=(15, 10))\n",
    "\n",
    "ax = sns.lineplot(x=movies_count.index, y=movies_count['count'])\n",
    "\n",
    "ax.set_title('Rating Frequency Of Movies')\n",
    "ax.set_xlabel('Movie Id')\n",
    "ax.set_ylabel('Number Of Ratings')\n",
    "\n",
    "ax"
   ]
  },
  {
   "cell_type": "markdown",
   "metadata": {},
   "source": [
    "## Filtering Data"
   ]
  },
  {
   "cell_type": "code",
   "execution_count": 8,
   "metadata": {},
   "outputs": [
    {
     "data": {
      "text/html": [
       "<div>\n",
       "<style scoped>\n",
       "    .dataframe tbody tr th:only-of-type {\n",
       "        vertical-align: middle;\n",
       "    }\n",
       "\n",
       "    .dataframe tbody tr th {\n",
       "        vertical-align: top;\n",
       "    }\n",
       "\n",
       "    .dataframe thead th {\n",
       "        text-align: right;\n",
       "    }\n",
       "</style>\n",
       "<table border=\"1\" class=\"dataframe\">\n",
       "  <thead>\n",
       "    <tr style=\"text-align: right;\">\n",
       "      <th></th>\n",
       "      <th>user_id</th>\n",
       "      <th>rating</th>\n",
       "      <th>timestamp</th>\n",
       "    </tr>\n",
       "    <tr>\n",
       "      <th>movie_id</th>\n",
       "      <th></th>\n",
       "      <th></th>\n",
       "      <th></th>\n",
       "    </tr>\n",
       "  </thead>\n",
       "  <tbody>\n",
       "    <tr>\n",
       "      <th>1</th>\n",
       "      <td>1</td>\n",
       "      <td>4.0</td>\n",
       "      <td>964982703</td>\n",
       "    </tr>\n",
       "    <tr>\n",
       "      <th>3</th>\n",
       "      <td>1</td>\n",
       "      <td>4.0</td>\n",
       "      <td>964981247</td>\n",
       "    </tr>\n",
       "    <tr>\n",
       "      <th>6</th>\n",
       "      <td>1</td>\n",
       "      <td>4.0</td>\n",
       "      <td>964982224</td>\n",
       "    </tr>\n",
       "    <tr>\n",
       "      <th>47</th>\n",
       "      <td>1</td>\n",
       "      <td>5.0</td>\n",
       "      <td>964983815</td>\n",
       "    </tr>\n",
       "    <tr>\n",
       "      <th>50</th>\n",
       "      <td>1</td>\n",
       "      <td>5.0</td>\n",
       "      <td>964982931</td>\n",
       "    </tr>\n",
       "  </tbody>\n",
       "</table>\n",
       "</div>"
      ],
      "text/plain": [
       "          user_id  rating  timestamp\n",
       "movie_id                            \n",
       "1               1     4.0  964982703\n",
       "3               1     4.0  964981247\n",
       "6               1     4.0  964982224\n",
       "47              1     5.0  964983815\n",
       "50              1     5.0  964982931"
      ]
     },
     "execution_count": 8,
     "metadata": {},
     "output_type": "execute_result"
    }
   ],
   "source": [
    "min_ratings = 50\n",
    "\n",
    "popular_movies_ids = list(set(movies_count[movies_count['count'] >= min_ratings].index))\n",
    "popular_movies = ratings[ratings['movie_id'].isin(popular_movies_ids)]\n",
    "popular_movies = popular_movies.reset_index()\n",
    "popular_movies = popular_movies.set_index('movie_id')\n",
    "\n",
    "popular_movies.head()"
   ]
  },
  {
   "cell_type": "code",
   "execution_count": 9,
   "metadata": {},
   "outputs": [
    {
     "data": {
      "text/html": [
       "<div>\n",
       "<style scoped>\n",
       "    .dataframe tbody tr th:only-of-type {\n",
       "        vertical-align: middle;\n",
       "    }\n",
       "\n",
       "    .dataframe tbody tr th {\n",
       "        vertical-align: top;\n",
       "    }\n",
       "\n",
       "    .dataframe thead th {\n",
       "        text-align: right;\n",
       "    }\n",
       "</style>\n",
       "<table border=\"1\" class=\"dataframe\">\n",
       "  <thead>\n",
       "    <tr style=\"text-align: right;\">\n",
       "      <th></th>\n",
       "      <th>count</th>\n",
       "    </tr>\n",
       "  </thead>\n",
       "  <tbody>\n",
       "    <tr>\n",
       "      <th>0</th>\n",
       "      <td>199</td>\n",
       "    </tr>\n",
       "    <tr>\n",
       "      <th>1</th>\n",
       "      <td>198</td>\n",
       "    </tr>\n",
       "    <tr>\n",
       "      <th>2</th>\n",
       "      <td>187</td>\n",
       "    </tr>\n",
       "    <tr>\n",
       "      <th>3</th>\n",
       "      <td>114</td>\n",
       "    </tr>\n",
       "    <tr>\n",
       "      <th>4</th>\n",
       "      <td>111</td>\n",
       "    </tr>\n",
       "  </tbody>\n",
       "</table>\n",
       "</div>"
      ],
      "text/plain": [
       "   count\n",
       "0    199\n",
       "1    198\n",
       "2    187\n",
       "3    114\n",
       "4    111"
      ]
     },
     "execution_count": 9,
     "metadata": {},
     "output_type": "execute_result"
    }
   ],
   "source": [
    "users_count = pd.DataFrame(popular_movies.groupby('user_id').size(), columns=['count'])\n",
    "\n",
    "users_count = users_count.sort_values('count', ascending=False)\n",
    "users_count = users_count.reset_index(drop=True)\n",
    "\n",
    "users_count.head()"
   ]
  },
  {
   "cell_type": "code",
   "execution_count": 10,
   "metadata": {},
   "outputs": [
    {
     "data": {
      "text/plain": [
       "<matplotlib.axes._subplots.AxesSubplot at 0x206a41257f0>"
      ]
     },
     "execution_count": 10,
     "metadata": {},
     "output_type": "execute_result"
    },
    {
     "data": {
      "image/png": "[encoded data removed]",
      "text/plain": [
       "<Figure size 1080x720 with 1 Axes>"
      ]
     },
     "metadata": {
      "needs_background": "dark"
     },
     "output_type": "display_data"
    }
   ],
   "source": [
    "plt.figure(figsize=(15, 10))\n",
    "\n",
    "ax = sns.lineplot(x=users_count.index, y=users_count['count'])\n",
    "\n",
    "ax.set_title('Rating Frequency Of Users')\n",
    "ax.set_xlabel('User Id')\n",
    "ax.set_ylabel('Number Of Ratings')\n",
    "\n",
    "ax"
   ]
  },
  {
   "cell_type": "code",
   "execution_count": 11,
   "metadata": {},
   "outputs": [
    {
     "data": {
      "text/html": [
       "<div>\n",
       "<style scoped>\n",
       "    .dataframe tbody tr th:only-of-type {\n",
       "        vertical-align: middle;\n",
       "    }\n",
       "\n",
       "    .dataframe tbody tr th {\n",
       "        vertical-align: top;\n",
       "    }\n",
       "\n",
       "    .dataframe thead th {\n",
       "        text-align: right;\n",
       "    }\n",
       "</style>\n",
       "<table border=\"1\" class=\"dataframe\">\n",
       "  <thead>\n",
       "    <tr style=\"text-align: right;\">\n",
       "      <th></th>\n",
       "      <th>movie_id</th>\n",
       "      <th>rating</th>\n",
       "      <th>timestamp</th>\n",
       "    </tr>\n",
       "    <tr>\n",
       "      <th>user_id</th>\n",
       "      <th></th>\n",
       "      <th></th>\n",
       "      <th></th>\n",
       "    </tr>\n",
       "  </thead>\n",
       "  <tbody>\n",
       "    <tr>\n",
       "      <th>1</th>\n",
       "      <td>1</td>\n",
       "      <td>4.0</td>\n",
       "      <td>964982703</td>\n",
       "    </tr>\n",
       "    <tr>\n",
       "      <th>1</th>\n",
       "      <td>3</td>\n",
       "      <td>4.0</td>\n",
       "      <td>964981247</td>\n",
       "    </tr>\n",
       "    <tr>\n",
       "      <th>1</th>\n",
       "      <td>6</td>\n",
       "      <td>4.0</td>\n",
       "      <td>964982224</td>\n",
       "    </tr>\n",
       "    <tr>\n",
       "      <th>1</th>\n",
       "      <td>47</td>\n",
       "      <td>5.0</td>\n",
       "      <td>964983815</td>\n",
       "    </tr>\n",
       "    <tr>\n",
       "      <th>1</th>\n",
       "      <td>50</td>\n",
       "      <td>5.0</td>\n",
       "      <td>964982931</td>\n",
       "    </tr>\n",
       "  </tbody>\n",
       "</table>\n",
       "</div>"
      ],
      "text/plain": [
       "         movie_id  rating  timestamp\n",
       "user_id                             \n",
       "1               1     4.0  964982703\n",
       "1               3     4.0  964981247\n",
       "1               6     4.0  964982224\n",
       "1              47     5.0  964983815\n",
       "1              50     5.0  964982931"
      ]
     },
     "execution_count": 11,
     "metadata": {},
     "output_type": "execute_result"
    }
   ],
   "source": [
    "min_ratings = 50\n",
    "\n",
    "active_users_ids = list(set(users_count[users_count['count'] >= min_ratings].index))\n",
    "active_users = ratings[ratings.index.isin(active_users_ids)]\n",
    "\n",
    "active_users.head()"
   ]
  },
  {
   "cell_type": "markdown",
   "metadata": {},
   "source": [
    "## Pre-Processing Data"
   ]
  },
  {
   "cell_type": "code",
   "execution_count": 12,
   "metadata": {},
   "outputs": [
    {
     "data": {
      "text/html": [
       "<div>\n",
       "<style scoped>\n",
       "    .dataframe tbody tr th:only-of-type {\n",
       "        vertical-align: middle;\n",
       "    }\n",
       "\n",
       "    .dataframe tbody tr th {\n",
       "        vertical-align: top;\n",
       "    }\n",
       "\n",
       "    .dataframe thead th {\n",
       "        text-align: right;\n",
       "    }\n",
       "</style>\n",
       "<table border=\"1\" class=\"dataframe\">\n",
       "  <thead>\n",
       "    <tr style=\"text-align: right;\">\n",
       "      <th>user_id</th>\n",
       "      <th>1</th>\n",
       "      <th>2</th>\n",
       "      <th>3</th>\n",
       "      <th>4</th>\n",
       "      <th>5</th>\n",
       "      <th>6</th>\n",
       "      <th>7</th>\n",
       "      <th>8</th>\n",
       "      <th>9</th>\n",
       "      <th>10</th>\n",
       "      <th>...</th>\n",
       "      <th>59</th>\n",
       "      <th>60</th>\n",
       "      <th>61</th>\n",
       "      <th>62</th>\n",
       "      <th>63</th>\n",
       "      <th>64</th>\n",
       "      <th>65</th>\n",
       "      <th>66</th>\n",
       "      <th>67</th>\n",
       "      <th>68</th>\n",
       "    </tr>\n",
       "    <tr>\n",
       "      <th>movie_id</th>\n",
       "      <th></th>\n",
       "      <th></th>\n",
       "      <th></th>\n",
       "      <th></th>\n",
       "      <th></th>\n",
       "      <th></th>\n",
       "      <th></th>\n",
       "      <th></th>\n",
       "      <th></th>\n",
       "      <th></th>\n",
       "      <th></th>\n",
       "      <th></th>\n",
       "      <th></th>\n",
       "      <th></th>\n",
       "      <th></th>\n",
       "      <th></th>\n",
       "      <th></th>\n",
       "      <th></th>\n",
       "      <th></th>\n",
       "      <th></th>\n",
       "      <th></th>\n",
       "    </tr>\n",
       "  </thead>\n",
       "  <tbody>\n",
       "    <tr>\n",
       "      <th>1</th>\n",
       "      <td>4.0</td>\n",
       "      <td>0.0</td>\n",
       "      <td>0.0</td>\n",
       "      <td>0.0</td>\n",
       "      <td>4.0</td>\n",
       "      <td>0.0</td>\n",
       "      <td>4.5</td>\n",
       "      <td>0.0</td>\n",
       "      <td>0.0</td>\n",
       "      <td>0.0</td>\n",
       "      <td>...</td>\n",
       "      <td>0.0</td>\n",
       "      <td>0.0</td>\n",
       "      <td>0.0</td>\n",
       "      <td>0.0</td>\n",
       "      <td>5.0</td>\n",
       "      <td>4.0</td>\n",
       "      <td>0.0</td>\n",
       "      <td>4.0</td>\n",
       "      <td>0.0</td>\n",
       "      <td>2.5</td>\n",
       "    </tr>\n",
       "    <tr>\n",
       "      <th>2</th>\n",
       "      <td>0.0</td>\n",
       "      <td>0.0</td>\n",
       "      <td>0.0</td>\n",
       "      <td>0.0</td>\n",
       "      <td>0.0</td>\n",
       "      <td>4.0</td>\n",
       "      <td>0.0</td>\n",
       "      <td>4.0</td>\n",
       "      <td>0.0</td>\n",
       "      <td>0.0</td>\n",
       "      <td>...</td>\n",
       "      <td>0.0</td>\n",
       "      <td>0.0</td>\n",
       "      <td>0.0</td>\n",
       "      <td>4.0</td>\n",
       "      <td>0.0</td>\n",
       "      <td>0.0</td>\n",
       "      <td>0.0</td>\n",
       "      <td>0.0</td>\n",
       "      <td>0.0</td>\n",
       "      <td>2.5</td>\n",
       "    </tr>\n",
       "    <tr>\n",
       "      <th>3</th>\n",
       "      <td>4.0</td>\n",
       "      <td>0.0</td>\n",
       "      <td>0.0</td>\n",
       "      <td>0.0</td>\n",
       "      <td>0.0</td>\n",
       "      <td>5.0</td>\n",
       "      <td>0.0</td>\n",
       "      <td>0.0</td>\n",
       "      <td>0.0</td>\n",
       "      <td>0.0</td>\n",
       "      <td>...</td>\n",
       "      <td>0.0</td>\n",
       "      <td>0.0</td>\n",
       "      <td>0.0</td>\n",
       "      <td>0.0</td>\n",
       "      <td>0.0</td>\n",
       "      <td>3.5</td>\n",
       "      <td>0.0</td>\n",
       "      <td>0.0</td>\n",
       "      <td>0.0</td>\n",
       "      <td>2.0</td>\n",
       "    </tr>\n",
       "    <tr>\n",
       "      <th>4</th>\n",
       "      <td>0.0</td>\n",
       "      <td>0.0</td>\n",
       "      <td>0.0</td>\n",
       "      <td>0.0</td>\n",
       "      <td>0.0</td>\n",
       "      <td>3.0</td>\n",
       "      <td>0.0</td>\n",
       "      <td>0.0</td>\n",
       "      <td>0.0</td>\n",
       "      <td>0.0</td>\n",
       "      <td>...</td>\n",
       "      <td>0.0</td>\n",
       "      <td>0.0</td>\n",
       "      <td>0.0</td>\n",
       "      <td>0.0</td>\n",
       "      <td>0.0</td>\n",
       "      <td>0.0</td>\n",
       "      <td>0.0</td>\n",
       "      <td>0.0</td>\n",
       "      <td>0.0</td>\n",
       "      <td>0.0</td>\n",
       "    </tr>\n",
       "    <tr>\n",
       "      <th>5</th>\n",
       "      <td>0.0</td>\n",
       "      <td>0.0</td>\n",
       "      <td>0.0</td>\n",
       "      <td>0.0</td>\n",
       "      <td>0.0</td>\n",
       "      <td>5.0</td>\n",
       "      <td>0.0</td>\n",
       "      <td>0.0</td>\n",
       "      <td>0.0</td>\n",
       "      <td>0.0</td>\n",
       "      <td>...</td>\n",
       "      <td>0.0</td>\n",
       "      <td>0.0</td>\n",
       "      <td>0.0</td>\n",
       "      <td>0.0</td>\n",
       "      <td>0.0</td>\n",
       "      <td>0.0</td>\n",
       "      <td>0.0</td>\n",
       "      <td>4.0</td>\n",
       "      <td>0.0</td>\n",
       "      <td>2.0</td>\n",
       "    </tr>\n",
       "  </tbody>\n",
       "</table>\n",
       "<p>5 rows × 68 columns</p>\n",
       "</div>"
      ],
      "text/plain": [
       "user_id    1    2    3    4    5    6    7    8    9    10  ...   59   60  \\\n",
       "movie_id                                                    ...             \n",
       "1         4.0  0.0  0.0  0.0  4.0  0.0  4.5  0.0  0.0  0.0  ...  0.0  0.0   \n",
       "2         0.0  0.0  0.0  0.0  0.0  4.0  0.0  4.0  0.0  0.0  ...  0.0  0.0   \n",
       "3         4.0  0.0  0.0  0.0  0.0  5.0  0.0  0.0  0.0  0.0  ...  0.0  0.0   \n",
       "4         0.0  0.0  0.0  0.0  0.0  3.0  0.0  0.0  0.0  0.0  ...  0.0  0.0   \n",
       "5         0.0  0.0  0.0  0.0  0.0  5.0  0.0  0.0  0.0  0.0  ...  0.0  0.0   \n",
       "\n",
       "user_id    61   62   63   64   65   66   67   68  \n",
       "movie_id                                          \n",
       "1         0.0  0.0  5.0  4.0  0.0  4.0  0.0  2.5  \n",
       "2         0.0  4.0  0.0  0.0  0.0  0.0  0.0  2.5  \n",
       "3         0.0  0.0  0.0  3.5  0.0  0.0  0.0  2.0  \n",
       "4         0.0  0.0  0.0  0.0  0.0  0.0  0.0  0.0  \n",
       "5         0.0  0.0  0.0  0.0  0.0  4.0  0.0  2.0  \n",
       "\n",
       "[5 rows x 68 columns]"
      ]
     },
     "execution_count": 12,
     "metadata": {},
     "output_type": "execute_result"
    }
   ],
   "source": [
    "active_users = active_users.reset_index()\n",
    "\n",
    "movie_user = active_users.pivot(index='movie_id', columns='user_id', values='rating')\n",
    "movie_user = movie_user.fillna(0)\n",
    "\n",
    "movie_user.head()"
   ]
  },
  {
   "cell_type": "code",
   "execution_count": 13,
   "metadata": {},
   "outputs": [
    {
     "data": {
      "text/plain": [
       "<3496x68 sparse matrix of type '<class 'numpy.float64'>'\n",
       "\twith 11620 stored elements in Compressed Sparse Row format>"
      ]
     },
     "execution_count": 13,
     "metadata": {},
     "output_type": "execute_result"
    }
   ],
   "source": [
    "from scipy.sparse import csr_matrix\n",
    "\n",
    "movie_user_matrix = csr_matrix(movie_user.values)\n",
    "movie_user_matrix"
   ]
  },
  {
   "cell_type": "code",
   "execution_count": 14,
   "metadata": {},
   "outputs": [
    {
     "data": {
      "text/plain": [
       "<68x3496 sparse matrix of type '<class 'numpy.float64'>'\n",
       "\twith 11620 stored elements in Compressed Sparse Row format>"
      ]
     },
     "execution_count": 14,
     "metadata": {},
     "output_type": "execute_result"
    }
   ],
   "source": [
    "user_movie_matrix = csr_matrix(movie_user.transpose().values)\n",
    "user_movie_matrix"
   ]
  },
  {
   "cell_type": "markdown",
   "metadata": {},
   "source": [
    "## Model Selection"
   ]
  },
  {
   "cell_type": "code",
   "execution_count": 15,
   "metadata": {},
   "outputs": [
    {
     "data": {
      "text/plain": [
       "(array([[0.31425772, 0.32045027, 0.32290949, ..., 0.42754156, 0.42903987,\n",
       "         0.43306666],\n",
       "        [0.30873317, 0.36593929, 0.38042521, ..., 0.46095983, 0.4617234 ,\n",
       "         0.46548105],\n",
       "        [0.25191668, 0.25800446, 0.26727701, ..., 0.37976442, 0.38083842,\n",
       "         0.38545839],\n",
       "        ...,\n",
       "        [0.        , 0.        , 0.        , ..., 0.        , 0.        ,\n",
       "         0.        ],\n",
       "        [0.        , 0.        , 0.        , ..., 0.        , 0.        ,\n",
       "         0.        ],\n",
       "        [0.        , 0.        , 0.        , ..., 0.        , 0.        ,\n",
       "         0.        ]]), array([[ 379,  248,  667, ...,   39,   72,  570],\n",
       "        [2809, 2085,  537, ...,  377, 2991,   28],\n",
       "        [ 423,  345,    6, ...,  582,   81,  149],\n",
       "        ...,\n",
       "        [3297, 3036, 3240, ..., 2900, 2118, 3294],\n",
       "        [1980, 2860, 1087, ..., 1963, 3085, 1877],\n",
       "        [1980, 2860, 1087, ..., 1963, 3085, 1877]], dtype=int64))"
      ]
     },
     "execution_count": 15,
     "metadata": {},
     "output_type": "execute_result"
    }
   ],
   "source": [
    "from sklearn.neighbors import NearestNeighbors\n",
    "\n",
    "model_movie_user = NearestNeighbors(n_neighbors=20,\n",
    "                                    metric='cosine',\n",
    "                                    algorithm='brute',\n",
    "                                    leaf_size=100)\n",
    "\n",
    "model_movie_user.fit(movie_user_matrix)\n",
    "model_movie_user.kneighbors()"
   ]
  },
  {
   "cell_type": "code",
   "execution_count": 16,
   "metadata": {},
   "outputs": [
    {
     "data": {
      "text/plain": [
       "(array([[0.65496572, 0.67021777, 0.67207831, ..., 0.83903068, 0.8393112 ,\n",
       "         0.84125551],\n",
       "        [0.77399165, 0.77814687, 0.81021986, ..., 0.90627248, 0.90912024,\n",
       "         0.91050245],\n",
       "        [0.94027974, 0.95570333, 0.95796052, ..., 0.99124405, 0.99238897,\n",
       "         0.99284365],\n",
       "        ...,\n",
       "        [0.65113135, 0.68599555, 0.69779068, ..., 0.8004043 , 0.80248207,\n",
       "         0.80678495],\n",
       "        [0.67187523, 0.69889631, 0.74999753, ..., 0.8385718 , 0.84082979,\n",
       "         0.84219864],\n",
       "        [0.56766139, 0.60630601, 0.61260172, ..., 0.76209851, 0.76472199,\n",
       "         0.76825956]]), array([[56, 38, 44, ..., 19, 14,  6],\n",
       "        [24, 64, 61, ..., 15, 20, 59],\n",
       "        [ 0, 50, 54, ..., 19, 58, 32],\n",
       "        ...,\n",
       "        [63, 44, 56, ..., 14, 50, 40],\n",
       "        [14, 16, 62, ..., 63, 60, 27],\n",
       "        [63, 17, 44, ..., 50, 19, 16]], dtype=int64))"
      ]
     },
     "execution_count": 16,
     "metadata": {},
     "output_type": "execute_result"
    }
   ],
   "source": [
    "model_user_movie = NearestNeighbors(n_neighbors=20,\n",
    "                                    metric='cosine',\n",
    "                                    algorithm='brute',\n",
    "                                    leaf_size=100)\n",
    "\n",
    "model_user_movie.fit(user_movie_matrix)\n",
    "model_user_movie.kneighbors()"
   ]
  },
  {
   "cell_type": "markdown",
   "metadata": {},
   "source": [
    "# Recommending Movies"
   ]
  },
  {
   "cell_type": "code",
   "execution_count": 17,
   "metadata": {},
   "outputs": [],
   "source": [
    "def to_movie_title(movie_id):\n",
    "    try:\n",
    "        return (movie_id, movies.loc[movie_id]['title'])\n",
    "    except:\n",
    "        return None\n",
    "        \n",
    "def to_movie_info(movie):\n",
    "    movie_title = to_movie_title(movie[0])\n",
    "    if not movie_title:\n",
    "        return None\n",
    "    \n",
    "    return (movie_title[1], round(movie[1], 4))"
   ]
  },
  {
   "cell_type": "markdown",
   "metadata": {},
   "source": [
    "## By Similarity Of Movies"
   ]
  },
  {
   "cell_type": "code",
   "execution_count": 18,
   "metadata": {},
   "outputs": [],
   "source": [
    "def recommend_by_similar_movies(movie_id, n_recommendations=10):\n",
    "    title = movies.loc[movie_id]['title']\n",
    "    print(f'Beacause you watched: {title}')\n",
    "    \n",
    "    distances, indexes = model_movie_user.kneighbors(movie_user_matrix[movie_id],\n",
    "                                                     n_neighbors=n_recommendations + 1)\n",
    "\n",
    "    distances = distances.squeeze().tolist()\n",
    "    indexes = indexes.squeeze().tolist()\n",
    "        \n",
    "    found_movies = zip(indexes, distances)\n",
    "    found_movies = filter(lambda movie: movie[0] != movie_id, found_movies)\n",
    "    found_movies = map(to_movie_info, found_movies)\n",
    "    found_movies = filter(lambda movie: movie is not None, found_movies)\n",
    "    found_movies = sorted(found_movies, key=lambda movie: movie[1])\n",
    "    \n",
    "    return found_movies"
   ]
  },
  {
   "cell_type": "code",
   "execution_count": 19,
   "metadata": {},
   "outputs": [
    {
     "name": "stdout",
     "output_type": "stream",
     "text": [
      "Beacause you watched: Toy Story (1995)\n"
     ]
    },
    {
     "data": {
      "text/plain": [
       "[('101 Dalmatians (One Hundred and One Dalmatians) (1961)', 0.3659),\n",
       " ('Sirens (1994)', 0.3804),\n",
       " ('Back to the Future Part II (1989)', 0.3876),\n",
       " ('Dirty Dancing (1987)', 0.4154),\n",
       " ('D2: The Mighty Ducks (1994)', 0.4172),\n",
       " ('Cabin Boy (1994)', 0.4198),\n",
       " ('Death Wish 5: The Face of Death (1994)', 0.4255)]"
      ]
     },
     "execution_count": 19,
     "metadata": {},
     "output_type": "execute_result"
    }
   ],
   "source": [
    "# 1 => Toy Story\n",
    "recommendations = recommend_by_similar_movies(1)\n",
    "recommendations"
   ]
  },
  {
   "cell_type": "markdown",
   "metadata": {},
   "source": [
    "## By Similarity Of Users"
   ]
  },
  {
   "cell_type": "code",
   "execution_count": 20,
   "metadata": {},
   "outputs": [],
   "source": [
    "from functools import reduce\n",
    "\n",
    "def to_user_distance(distances, user):\n",
    "    if not distances:\n",
    "        distances = {}\n",
    "        \n",
    "    distances[user[0]] = round(user[1], 4)\n",
    "    return distances\n",
    "\n",
    "def recommend_by_similar_users(user_id, n_users=3, n_recommendations=1, group_by_user=False):\n",
    "    if user_id >= user_movie_matrix.shape[0]:\n",
    "        return f'User: {user_id} not found'\n",
    "    \n",
    "    distances, indexes = model_user_movie.kneighbors(user_movie_matrix[user_id],\n",
    "                                                     n_neighbors=n_users + 1)\n",
    "\n",
    "    distances = distances.squeeze().tolist()\n",
    "    indexes = indexes.squeeze().tolist()\n",
    "        \n",
    "    found_users = zip(indexes, distances)\n",
    "    found_users = filter(lambda user: user[0] != user, found_users)\n",
    "    found_users = sorted(found_users, key=lambda user: user[1])\n",
    "    \n",
    "    found_users_ids = map(lambda user: user[0], found_users)\n",
    "    \n",
    "    watched_movies = list(ratings[ratings.index == user_id]['movie_id'].values)\n",
    "\n",
    "    recommendations_ids = set(watched_movies)\n",
    "    recommendations = []\n",
    "    for found_user_id in found_users_ids:\n",
    "        if user_id == found_user_id:\n",
    "            continue\n",
    "        \n",
    "        found_movies = popular_movies[popular_movies['user_id'] == found_user_id]\n",
    "        found_movies = found_movies[~found_movies.index.isin(recommendations_ids)].nlargest(n_recommendations, 'rating')\n",
    "                \n",
    "        found_movies = set(found_movies.sort_values('rating').index)\n",
    "        found_movies = list(found_movies)\n",
    "\n",
    "        recommendations_ids.update(found_movies)\n",
    "\n",
    "        size = len(found_movies)\n",
    "\n",
    "        found_movies = map(to_movie_title, found_movies)\n",
    "        found_movies = filter(lambda movie: movie is not None, found_movies)\n",
    "    \n",
    "        tmp_found_movies = []\n",
    "        for movie in found_movies:\n",
    "            movie_idx, title = movie\n",
    "            \n",
    "            rating = ratings.loc[found_user_id]\n",
    "            rating = rating[rating['movie_id'] == movie_idx]['rating'].values[0]\n",
    "            \n",
    "            tmp_found_movies.append((title, found_user_id, rating))\n",
    "        \n",
    "        found_movies = tmp_found_movies\n",
    "        if len(found_movies):\n",
    "            if group_by_user:\n",
    "                recommendations.append(found_movies)\n",
    "                recommendations = sorted(recommendations, key=lambda user: user[0][2], reverse=True)\n",
    "            else:\n",
    "                recommendations.extend(found_movies)\n",
    "                recommendations = sorted(recommendations, key=lambda user: user[2], reverse=True)\n",
    "    \n",
    "    return recommendations"
   ]
  },
  {
   "cell_type": "code",
   "execution_count": 21,
   "metadata": {},
   "outputs": [
    {
     "data": {
      "text/plain": [
       "[('Casino (1995)', 64, 5.0),\n",
       " ('Screamers (1995)', 51, 5.0),\n",
       " ('GoldenEye (1995)', 21, 5.0),\n",
       " ('Léon: The Professional (a.k.a. The Professional) (Léon) (1994)', 62, 5.0),\n",
       " ('Sense and Sensibility (1995)', 40, 5.0),\n",
       " ('Shawshank Redemption, The (1994)', 24, 4.5),\n",
       " ('Twelve Monkeys (a.k.a. 12 Monkeys) (1995)', 61, 4.5),\n",
       " ('Taxi Driver (1976)', 17, 4.0),\n",
       " ('Apollo 13 (1995)', 29, 4.0),\n",
       " ('City of Lost Children, The (Cité des enfants perdus, La) (1995)', 23, 4.0)]"
      ]
     },
     "execution_count": 21,
     "metadata": {},
     "output_type": "execute_result"
    }
   ],
   "source": [
    "recommendations = recommend_by_similar_users(1, n_users=10)\n",
    "recommendations"
   ]
  },
  {
   "cell_type": "markdown",
   "metadata": {},
   "source": [
    "## Checking Recommendations"
   ]
  },
  {
   "cell_type": "code",
   "execution_count": 22,
   "metadata": {},
   "outputs": [
    {
     "data": {
      "text/html": [
       "<div>\n",
       "<style scoped>\n",
       "    .dataframe tbody tr th:only-of-type {\n",
       "        vertical-align: middle;\n",
       "    }\n",
       "\n",
       "    .dataframe tbody tr th {\n",
       "        vertical-align: top;\n",
       "    }\n",
       "\n",
       "    .dataframe thead th {\n",
       "        text-align: right;\n",
       "    }\n",
       "</style>\n",
       "<table border=\"1\" class=\"dataframe\">\n",
       "  <thead>\n",
       "    <tr style=\"text-align: right;\">\n",
       "      <th></th>\n",
       "      <th>user_id</th>\n",
       "      <th>title</th>\n",
       "      <th>rating</th>\n",
       "    </tr>\n",
       "    <tr>\n",
       "      <th>movie_id</th>\n",
       "      <th></th>\n",
       "      <th></th>\n",
       "      <th></th>\n",
       "    </tr>\n",
       "  </thead>\n",
       "  <tbody>\n",
       "    <tr>\n",
       "      <th>16</th>\n",
       "      <td>64</td>\n",
       "      <td>Casino (1995)</td>\n",
       "      <td>5.0</td>\n",
       "    </tr>\n",
       "    <tr>\n",
       "      <th>266</th>\n",
       "      <td>64</td>\n",
       "      <td>Legends of the Fall (1994)</td>\n",
       "      <td>5.0</td>\n",
       "    </tr>\n",
       "    <tr>\n",
       "      <th>318</th>\n",
       "      <td>64</td>\n",
       "      <td>Shawshank Redemption, The (1994)</td>\n",
       "      <td>5.0</td>\n",
       "    </tr>\n",
       "    <tr>\n",
       "      <th>527</th>\n",
       "      <td>64</td>\n",
       "      <td>Schindler's List (1993)</td>\n",
       "      <td>5.0</td>\n",
       "    </tr>\n",
       "    <tr>\n",
       "      <th>590</th>\n",
       "      <td>64</td>\n",
       "      <td>Dances with Wolves (1990)</td>\n",
       "      <td>5.0</td>\n",
       "    </tr>\n",
       "    <tr>\n",
       "      <th>593</th>\n",
       "      <td>64</td>\n",
       "      <td>Silence of the Lambs, The (1991)</td>\n",
       "      <td>5.0</td>\n",
       "    </tr>\n",
       "    <tr>\n",
       "      <th>778</th>\n",
       "      <td>64</td>\n",
       "      <td>Trainspotting (1996)</td>\n",
       "      <td>5.0</td>\n",
       "    </tr>\n",
       "    <tr>\n",
       "      <th>858</th>\n",
       "      <td>64</td>\n",
       "      <td>Godfather, The (1972)</td>\n",
       "      <td>5.0</td>\n",
       "    </tr>\n",
       "    <tr>\n",
       "      <th>1090</th>\n",
       "      <td>64</td>\n",
       "      <td>Platoon (1986)</td>\n",
       "      <td>5.0</td>\n",
       "    </tr>\n",
       "    <tr>\n",
       "      <th>1096</th>\n",
       "      <td>64</td>\n",
       "      <td>Sophie's Choice (1982)</td>\n",
       "      <td>5.0</td>\n",
       "    </tr>\n",
       "  </tbody>\n",
       "</table>\n",
       "</div>"
      ],
      "text/plain": [
       "          user_id                             title  rating\n",
       "movie_id                                                   \n",
       "16             64                     Casino (1995)     5.0\n",
       "266            64        Legends of the Fall (1994)     5.0\n",
       "318            64  Shawshank Redemption, The (1994)     5.0\n",
       "527            64           Schindler's List (1993)     5.0\n",
       "590            64         Dances with Wolves (1990)     5.0\n",
       "593            64  Silence of the Lambs, The (1991)     5.0\n",
       "778            64              Trainspotting (1996)     5.0\n",
       "858            64             Godfather, The (1972)     5.0\n",
       "1090           64                    Platoon (1986)     5.0\n",
       "1096           64            Sophie's Choice (1982)     5.0"
      ]
     },
     "execution_count": 22,
     "metadata": {},
     "output_type": "execute_result"
    }
   ],
   "source": [
    "user_id = 64\n",
    "\n",
    "user_movie_ratings = ratings.loc[user_id].nlargest(10, 'rating')\n",
    "user_movie_ratings = user_movie_ratings.reset_index()\n",
    "user_movie_ratings = user_movie_ratings.set_index('movie_id')\n",
    "\n",
    "user_movie_ratings = user_movie_ratings.join(movies)\n",
    "user_movie_ratings = user_movie_ratings[['user_id', 'title', 'rating']]\n",
    "\n",
    "user_movie_ratings"
   ]
  },
  {
   "cell_type": "markdown",
   "metadata": {},
   "source": [
    "*Notes:*\n",
    "\n",
    "This model has some limitations:\n",
    "\n",
    "- **Popularity bias:** When only the most popular movies will be considered on the recommendation.\n",
    "- **Could start:** When there aren't many movies watched, the recommendation tends not to be very accurate."
   ]
  },
  {
   "cell_type": "markdown",
   "metadata": {},
   "source": [
    "# Saving Model"
   ]
  },
  {
   "cell_type": "code",
   "execution_count": 23,
   "metadata": {},
   "outputs": [],
   "source": [
    "import pickle\n",
    "\n",
    "def save_model(filepath, fitted_model):\n",
    "    try:\n",
    "        with open(filepath, 'wb') as f:\n",
    "            pickle.dump(fitted_model, f)\n",
    "    except Exception as e:\n",
    "        print(e)\n",
    "\n",
    "        \n",
    "def load_model(filepath):\n",
    "    fitted_model = None\n",
    "    try:\n",
    "        with open(filepath, 'rb') as f:\n",
    "            fitted_model = pickle.load(f)\n",
    "            \n",
    "        return fitted_model\n",
    "    except Exception as e:\n",
    "        print(e)"
   ]
  },
  {
   "cell_type": "code",
   "execution_count": 24,
   "metadata": {},
   "outputs": [],
   "source": [
    "# Saving user based model\n",
    "filename = 'knn_collaborative_user_movie.pkl'\n",
    "filepath = f'../Models/{filename}'\n",
    "\n",
    "save_model(filepath, model_user_movie)\n",
    "\n",
    "# Saving movie based model\n",
    "filename = 'knn_collaborative_movie_user.pkl'\n",
    "filepath = f'../Models/{filename}'\n",
    "\n",
    "save_model(filepath, model_movie_user)"
   ]
  }
 ],
 "metadata": {
  "hide_input": false,
  "kernelspec": {
   "display_name": "Python 3",
   "language": "python",
   "name": "python3"
  },
  "language_info": {
   "codemirror_mode": {
    "name": "ipython",
    "version": 3
   },
   "file_extension": ".py",
   "mimetype": "text/x-python",
   "name": "python",
   "nbconvert_exporter": "python",
   "pygments_lexer": "ipython3",
   "version": "3.7.2"
  },
  "toc": {
   "base_numbering": 1,
   "nav_menu": {},
   "number_sections": true,
   "sideBar": true,
   "skip_h1_title": false,
   "title_cell": "Table of Contents",
   "title_sidebar": "Contents",
   "toc_cell": false,
   "toc_position": {},
   "toc_section_display": true,
   "toc_window_display": true
  }
 },
 "nbformat": 4,
 "nbformat_minor": 2
}
